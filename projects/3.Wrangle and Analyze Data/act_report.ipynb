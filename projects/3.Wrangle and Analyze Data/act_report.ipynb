{
 "cells": [
  {
   "cell_type": "markdown",
   "metadata": {},
   "source": [
    "# WeRateDogs"
   ]
  },
  {
   "cell_type": "markdown",
   "metadata": {},
   "source": [
    "### Data Wrangling by Ovidiu Anicai"
   ]
  },
  {
   "cell_type": "markdown",
   "metadata": {},
   "source": [
    "**WeRateDogs** is a Twitter account started in 2015 by Matt Nelson, that caught attention in the international media after the account was suspended for braking copyright lays. Since then the account has over 8.6 milions floowers and more than 11,000 tweets."
   ]
  },
  {
   "cell_type": "markdown",
   "metadata": {},
   "source": [
    "The main activity of the account is rating dog photos sent by owners, initially the grades were on a scale from 1 to 10 but the rating system soon started to use a special scale with grades between 10/10 and 14/10. There was even a trending meme on the internet about this odd scale [\"They're good dogs, Brent\"](https://mashable.com/article/theyre-good-dogs-brent-meme-update/)"
   ]
  },
  {
   "cell_type": "markdown",
   "metadata": {},
   "source": [
    "WeRateDogs also created their own system of dog classigication: small puppies are \"puppers\", orlder puppers are called \"puppos\", even olders puppers are \"doggos\" and the hairy dogs are \"floofers\".\n"
   ]
  },
  {
   "cell_type": "markdown",
   "metadata": {},
   "source": [
    "WeRateDogs was kind enough to provide to us their 2015-2017 tweets archive so we could do a deep dive into their activity those years. We were interested in finding out which kind of dog is the most apreciated by the followers and as expected the big winners is the \"puppos\" category, everybody on the internet likes small pupps.\n",
    "<br>\n",
    "<br>\n",
    "![Averages for Likes and Retweets by dog stage](media/likes_retweets.png)"
   ]
  },
  {
   "cell_type": "markdown",
   "metadata": {},
   "source": [
    "<br><br><br>"
   ]
  },
  {
   "cell_type": "markdown",
   "metadata": {},
   "source": [
    "Jokes aside WeRateDogs account has a great traction to its milions of followers, their tweets have increasing trentds in both retweets and likes. The owner saw the oportunities and invested in [merchandise](https://weratedogs.com/) options, wrote a [book](https://www.amazon.com/WeRateDogs-2020-Day-Day-Calendar/dp/1449498841), created a [card game](https://www.chroniclebooks.com/titles/we-rate-dogs-the-card-game.html). They have 1.4 followers in [Instagram](https://www.instagram.com/weratedogs/?hl=en) and 400k on [Facebook](https://www.facebook.com/WeRateDogs/).\n",
    "<br><br><br>\n",
    "![alt text](media/likes_evolution.png)"
   ]
  }
 ],
 "metadata": {
  "kernelspec": {
   "display_name": "Python 3",
   "language": "python",
   "name": "python3"
  },
  "language_info": {
   "codemirror_mode": {
    "name": "ipython",
    "version": 3
   },
   "file_extension": ".py",
   "mimetype": "text/x-python",
   "name": "python",
   "nbconvert_exporter": "python",
   "pygments_lexer": "ipython3",
   "version": "3.6.3"
  }
 },
 "nbformat": 4,
 "nbformat_minor": 2
}
